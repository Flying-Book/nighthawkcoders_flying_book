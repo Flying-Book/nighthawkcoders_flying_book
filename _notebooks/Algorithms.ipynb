{
 "cells": [
  {
   "cell_type": "code",
   "execution_count": null,
   "metadata": {},
   "outputs": [],
   "source": [
    "#Exercise\n",
    "string = input(\"Enter String:\")\n",
    "required_letter = input(\"Required index\")\n",
    "for i in range(len(string)):\n",
    "    if string[i] == required_letter:\n",
    "        print(i)\n",
    "        break"
   ]
  },
  {
   "cell_type": "markdown",
   "metadata": {},
   "source": [
    "Selection Sort - Iterate over unsorited till it becomes sorted\n",
    "Bubble Sort - Move integer based on inumbers around it.\n",
    "Search - binary searching"
   ]
  },
  {
   "cell_type": "code",
   "execution_count": 5,
   "metadata": {},
   "outputs": [
    {
     "name": "stdout",
     "output_type": "stream",
     "text": [
      "This is not a palindrome.\n"
     ]
    }
   ],
   "source": [
    "#Homework Palindrome\n",
    "string = input(\"Possible Palindrome:\") #hello\n",
    "if_palindrome = True\n",
    "for i in range(len(string)//2):\n",
    "    if string[i] != string[-i-1]:\n",
    "        if_palindrome = False\n",
    "        break\n",
    "if if_palindrome == True:\n",
    "    print(\"This is an palindrome.\")\n",
    "else:\n",
    "    print(\"This is not a palindrome.\")"
   ]
  },
  {
   "cell_type": "code",
   "execution_count": 12,
   "metadata": {},
   "outputs": [
    {
     "name": "stdout",
     "output_type": "stream",
     "text": [
      "[100, 90, 90, 80, 85, 76, 83, 43, 56, 62]\n",
      "47\n"
     ]
    }
   ],
   "source": [
    "test_scores = [100, 90, 90, 80, 85, 76, 83, 43, 56, 62]\n",
    "def bubble_sort_scores(test_scores):\n",
    "    for i in range(len(test_scores)):\n",
    "        done = True\n",
    "        for num in range(0, len(test_scores)-i-1):\n",
    "            if test_scores[num] > test_scores[num]:\n",
    "                test_scores[num], test_scores[num+1] = test_scores[num+1], test_scores[num]\n",
    "            else:\n",
    "                return test_scores[::-1]\n",
    "\n",
    "test_scores = bubble_sort_scores(test_scores)\n",
    "print(bubble_sort_scores(test_scores))\n",
    "middle = len(test_scores)//2\n",
    "if len(test_scores) % 2 == 0:\n",
    "    lower_half = test_scores[:middle]\n",
    "    upper_half = test_scores[middle:]\n",
    "else:\n",
    "    lower_half = test_scores[:middle]\n",
    "    upper_half = test_scores[middle+1:]\n",
    "\n",
    "q1 = lower_half[len(lower_half) // 2]\n",
    "q3 = upper_half[len(upper_half) // 2]\n",
    "\n",
    "iqr = q3 - q1\n",
    "print(iqr)\n",
    "\n",
    "            "
   ]
  },
  {
   "cell_type": "code",
   "execution_count": 2,
   "metadata": {},
   "outputs": [
    {
     "name": "stdout",
     "output_type": "stream",
     "text": [
      "83.0\n"
     ]
    }
   ],
   "source": [
    "test_scores = [100, 96, 83, 82, 85, 85, 83, 22, 56, 63]\n",
    "test_scores = sorted(test_scores)\n",
    "length = len(test_scores)\n",
    "\n",
    "if length % 2 == 0:\n",
    "    median = (test_scores[length // 2] + test_scores[length // 2 - 1])/2\n",
    "else:\n",
    "    median = test_scores[length // 2]\n",
    "print(int(median))"
   ]
  },
  {
   "cell_type": "code",
   "execution_count": 4,
   "metadata": {},
   "outputs": [
    {
     "name": "stdout",
     "output_type": "stream",
     "text": [
      "42\n"
     ]
    }
   ],
   "source": [
    "import random\n",
    "ran_num = random.randint(1, 100)\n",
    "def how_much_off(num):\n",
    "    print(abs(num-ran_num))\n",
    "how_much_off(30)"
   ]
  },
  {
   "cell_type": "markdown",
   "metadata": {},
   "source": [
    "# Summary\n",
    "- In CSP, algorithms are fundamental to problem-solving and computational thinking.\n",
    "- An algorithm is a precise set of step-by-step instructions for solving a problem or performing a task.\n",
    "- Psuedo code can be used to display a algorithm. Pseudocode is often used to represent algorithms in CSP. It's a way to outline the steps without using specific programming language syntax.\n",
    "~~~\n",
    "function factorial(n)\n",
    "    if n = 0\n",
    "        return 1\n",
    "    else\n",
    "        result = 1\n",
    "        for i from 1 to n\n",
    "            result = result * i\n",
    "        end for\n",
    "        return result\n",
    "    end if\n",
    "end function\n",
    "~~~\n",
    "- Optimization reduces Time complexity (Big O Notation)\n",
    "- Examples may include sorting algorithms, searching algorithms, and data analysis."
   ]
  }
 ],
 "metadata": {
  "kernelspec": {
   "display_name": "Python 3 (ipykernel)",
   "language": "python",
   "name": "python3"
  },
  "language_info": {
   "codemirror_mode": {
    "name": "ipython",
    "version": 3
   },
   "file_extension": ".py",
   "mimetype": "text/x-python",
   "name": "python",
   "nbconvert_exporter": "python",
   "pygments_lexer": "ipython3",
   "version": "3.10.12"
  }
 },
 "nbformat": 4,
 "nbformat_minor": 2
}
