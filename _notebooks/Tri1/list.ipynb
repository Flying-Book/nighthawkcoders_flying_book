{
 "cells": [
  {
   "cell_type": "code",
   "execution_count": null,
   "metadata": {},
   "outputs": [],
   "source": [
    "l=[]\n",
    "for i in range(20):\n",
    "    l.append(i)\n",
    "count = 0\n",
    "while len(l) > 1:\n",
    "    l = l[:len(l)//2]\n",
    "    count +=1\n",
    "print(count)"
   ]
  },
  {
   "cell_type": "code",
   "execution_count": null,
   "metadata": {},
   "outputs": [],
   "source": [
    "# define a list of test scores\n",
    "test_scores = [90, 98, 91, 84, 76, 93, 59]\n",
    "# find + replace test score of 59 with 92\n",
    "test_scores.remove(59) \n",
    "test_scores.append(92)\n",
    "# Takes the length of the list to find the number of tests\n",
    "num_students = len(test_scores)\n",
    "# use in built in sorting function to sort list\n",
    "sorted_test_scores = sorted(test_scores)\n",
    "# display new list\n",
    "print(sorted_test_scores)"
   ]
  },
  {
   "cell_type": "markdown",
   "metadata": {},
   "source": [
    "# Review\n",
    "1. Definition:\n",
    "\n",
    "Lists (or arrays) are data structures that store multiple values under a single variable name.\n",
    "They are ordered collections of elements, often of the same data type.\n",
    "2. Common Operations:\n",
    "\n",
    "Access: Elements can be accessed by their index (position) in the list.\n",
    "Insertion: Add elements to the list at specific positions.\n",
    "Deletion: Remove elements from the list.\n",
    "Traversal: Iterate through the list to access all elements.\n",
    "3. Indexing:\n",
    "\n",
    "Lists typically use zero-based indexing, meaning the first element is at index 0, the second at index 1, and so on.\n",
    "Dynamic Sizing:\n",
    "\n",
    "Some programming languages allow lists to dynamically resize to accommodate more or fewer elements.\n",
    "4. Common List Types:\n",
    "\n",
    "1D Array: A single-dimensional list of elements.\n",
    "2D Array: A two-dimensional grid or matrix of elements.\n",
    "Lists with Mixed Types: Some languages allow lists to contain elements of different data types.\n",
    "5. List Operations:\n",
    "\n",
    "Common operations include appending elements, sorting, searching, and joining lists.\n",
    "6. List Efficiency:\n",
    "\n",
    "Consider the time complexity of list operations when working with large data sets.\n",
    "7. Psudeo Code\n",
    "~~~\n",
    "initialize an empty list named \"myList\"\n",
    "\n",
    "append 42 to \"myList\"\n",
    "append \"Hello\" to \"myList\"\n",
    "append 3.14 to \"myList\"\n",
    "\n",
    "for each item in \"myList\"\n",
    "    print item\n",
    "end for\n",
    "~~~"
   ]
  }
 ],
 "metadata": {
  "language_info": {
   "name": "python"
  }
 },
 "nbformat": 4,
 "nbformat_minor": 2
}
