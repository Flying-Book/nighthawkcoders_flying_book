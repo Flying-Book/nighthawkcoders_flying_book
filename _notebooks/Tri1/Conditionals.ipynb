{
 "cells": [
  {
   "cell_type": "markdown",
   "metadata": {},
   "source": [
    "Not (boolean) = flips condition\n",
    "And = two conditions true\n",
    "Or = one condition true"
   ]
  },
  {
   "cell_type": "code",
   "execution_count": null,
   "metadata": {},
   "outputs": [],
   "source": [
    "voting_eligibility = False # Define variable\n",
    "user_age = int(input()) #take input and convert to integer\n",
    "if user_age >= 18: # Check if age is greater or equal to 18\n",
    "    voting_eligibility = True # If an adult, can vote\n",
    "print(voting_eligibility) # display results"
   ]
  },
  {
   "cell_type": "code",
   "execution_count": null,
   "metadata": {},
   "outputs": [],
   "source": [
    "student_score = 0 \n",
    "\n",
    "if student_score < 25:\n",
    "    student_grade = \"F\"\n",
    "elif 25 <= student_score <= 45:\n",
    "    student_grade = \"E\"\n",
    "elif 45 < student_score <= 50:\n",
    "    student_grade = \"D\"\n",
    "elif 50 < student_score <= 60:\n",
    "    student_grade = \"C\"\n",
    "elif 60 < student_score <= 80:\n",
    "    student_grade = \"B\"\n",
    "else:\n",
    "    student_grade = \"A\"\n",
    "\n",
    "print(student_grade)"
   ]
  },
  {
   "cell_type": "code",
   "execution_count": null,
   "metadata": {},
   "outputs": [],
   "source": [
    "# Get user input for salary and years of service\n",
    "salary = float(input(\"Enter your salary: $\"))\n",
    "years_of_service = int(input(\"Enter your years of service: \"))\n",
    "\n",
    "# Check if the employee is eligible for a bonus\n",
    "if years_of_service > 5:\n",
    "    bonus_percentage = 5  # 5% bonus for more than 5 years of service\n",
    "    bonus_amount = (bonus_percentage / 100) * salary\n",
    "    print(f\"You are eligible for a {bonus_percentage}% bonus.\")\n",
    "    print(f\"Net bonus amount: ${bonus_amount:.2f}\")\n",
    "else:\n",
    "    print(\"You are not eligible for a bonus.\")"
   ]
  },
  {
   "cell_type": "code",
   "execution_count": null,
   "metadata": {},
   "outputs": [],
   "source": [
    "# Assume the voter's age and citizenship status\n",
    "age = 18  # Adjust this value to the voter's age\n",
    "is_citizen = True  # Set to True if the voter is a citizen, or False if not\n",
    "\n",
    "# Determine voter eligibility\n",
    "eligible_to_vote = age >= 18 and is_citizen\n",
    "\n",
    "# Check if the voter is eligible and provide feedback\n",
    "if eligible_to_vote:\n",
    "    print(\"You are eligible to vote in the election.\")\n",
    "else:\n",
    "    print(\"You are not eligible to vote in the election.\")"
   ]
  },
  {
   "cell_type": "markdown",
   "metadata": {},
   "source": [
    "# Summary\n",
    "1. Conditional Statements:\n",
    "\n",
    "- Conditionals are used to make decisions in a program based on certain conditions.\n",
    "- They enable the program to execute different blocks of code depending on whether a condition is true or false.\n",
    "2. Types of Conditionals:\n",
    "\n",
    "- if: Executes a block of code if a specified condition is true.\n",
    "- else: Provides an alternative block of code to execute when the \"if\" condition is false.\n",
    "- elif (else if): Used for multiple conditional checks in a sequence.\n",
    "- switch (in some programming languages): Allows branching based on multiple possible values.\n",
    "2. Boolean Expressions:\n",
    "\n",
    "- Conditions are typically expressed as boolean expressions, which evaluate to either true or false.\n",
    "- Examples include comparisons (e.g., x > 5) and logical operators (e.g., if (x > 5 && y < 10)).\n",
    "3. Nested Conditionals:\n",
    "\n",
    "- Conditionals can be nested within one another to handle more complex decision-making.\n",
    "4. Default and Error Handling:\n",
    "\n",
    "- Consider adding a \"default\" or \"else\" case to handle unexpected conditions or errors.\n",
    "- Pseudo Code\n",
    "~~~\n",
    "input age\n",
    "if age < 18\n",
    "    display \"You are a minor.\"\n",
    "else\n",
    "    display \"You are an adult.\"\n",
    "end if\n",
    "~~~\n"
   ]
  }
 ],
 "metadata": {
  "kernelspec": {
   "display_name": "Python 3",
   "language": "python",
   "name": "python3"
  },
  "language_info": {
   "name": "python",
   "version": "3.10.12"
  }
 },
 "nbformat": 4,
 "nbformat_minor": 2
}
