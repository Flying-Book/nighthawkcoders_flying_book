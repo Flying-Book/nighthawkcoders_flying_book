{
 "cells": [
  {
   "cell_type": "markdown",
   "metadata": {},
   "source": []
  },
  {
   "cell_type": "markdown",
   "metadata": {},
   "source": [
    "# Review for CSP P5 Table 9 (Imaad, Tanay, Anika, Anika, Ananya)\n",
    "Hook: 3.9\n",
    "Points: 3.6-4.0\n",
    "Why?: Professional looking front-end + interesting concept introduction\n",
    "\n",
    "Knowledge demonstrated: 3.9\n",
    "Points: 3.6-4.0\n",
    "Why?: Team members were able to explain the concept of their code and their contributions.\n",
    "\n",
    "Value: 0.9\n",
    "Points: 0.6-1.0\n",
    "Why?: Very relevant and useful for target audience\n",
    "\n",
    "Wow factor: 1.0\n",
    "Explain: Very complex front-end and backend code lead to a very comprehensive website. The market predictions were accurate and good use of API.\n",
    "\n",
    "9.9/10"
   ]
  },
  {
   "cell_type": "markdown",
   "metadata": {},
   "source": [
    "# Review for CSP P5 Table 7 (Cindy, Samhita, Aditi, Eshika)\n",
    "HOOK: 3.9\n",
    "Points: 3.6-4.0\n",
    "Reason: Good job explaining the relevance to the audience + included many surprising statistics\n",
    "\n",
    "KNOWLEDGE: 3.8\n",
    "Points: 3.6-4.0\n",
    "Reason: We’re able to explain the different aspects of their code and provided documentation on their repository\n",
    "\n",
    "VALUE: 0.8\n",
    "Points: 0.6-1.0\n",
    "Reason: connects with today’s topics such as pollution and the rising cases of lung cancer\n",
    "\n",
    "WOW FACTOR: 0.7\n",
    "Reason: Had many features including quizzes, learning material, and interactive statistics. The front end code could be customized a little more but everything is functional and interactive on the website.\n",
    ".\n",
    "Overall: 9.6/10"
   ]
  },
  {
   "cell_type": "markdown",
   "metadata": {},
   "source": [
    "# CSP Period 1 Table 4 (Sreeja, Nupur, Tanvi, Abigail)\n",
    "HOOK: 3.7\n",
    "Points: 3.6-4.0\n",
    "Reason: Good job explaining the relevance to the audience\n",
    "\n",
    "KNOWLEDGE: 3.8\n",
    "Points: 3.6-4.0\n",
    "Reason: They were all able to explain all aspects of their code and API Usage.\n",
    "\n",
    "VALUE: 0.9\n",
    "Points: 0.6-1.0\n",
    "Reason: connects with students because it serves as a great study tool for tests. It is almost similar to quizlet.\n",
    "\n",
    "WOW FACTOR: 0.7\n",
    "Reason: Front-end was very well developed and engaging\n",
    ".\n",
    "Overall: 9.6/10"
   ]
  }
 ],
 "metadata": {
  "language_info": {
   "name": "python"
  }
 },
 "nbformat": 4,
 "nbformat_minor": 2
}
