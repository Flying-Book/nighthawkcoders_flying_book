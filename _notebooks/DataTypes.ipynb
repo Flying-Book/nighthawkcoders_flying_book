{
 "cells": [
  {
   "attachments": {},
   "cell_type": "markdown",
   "metadata": {},
   "source": []
  },
  {
   "cell_type": "code",
   "execution_count": 2,
   "metadata": {},
   "outputs": [
    {
     "name": "stdout",
     "output_type": "stream",
     "text": [
      "15\n"
     ]
    }
   ],
   "source": [
    "#Exercise 1\n",
    "num1Int = 5\n",
    "num2Int = 10\n",
    "print(num1Int + num2Int)"
   ]
  },
  {
   "cell_type": "code",
   "execution_count": 1,
   "metadata": {},
   "outputs": [
    {
     "name": "stdout",
     "output_type": "stream",
     "text": [
      "2.0\n"
     ]
    }
   ],
   "source": [
    "#Exercise 2\n",
    "float1 = 100.0\n",
    "float2 = 50.0\n",
    "print(float1/float2)"
   ]
  },
  {
   "cell_type": "code",
   "execution_count": 4,
   "metadata": {},
   "outputs": [
    {
     "data": {
      "application/javascript": "const desserts = [\"cookies\", \"icecream\", \"cake\"]\ndessert1 = desserts[0]\nconsole.log(dessert1)\n",
      "text/plain": [
       "<IPython.core.display.Javascript object>"
      ]
     },
     "metadata": {},
     "output_type": "display_data"
    }
   ],
   "source": [
    "#Exercise 3\n",
    "%%javascript\n",
    "const desserts = [\"cookies\", \"icecream\", \"cake\"]\n",
    "dessert1 = desserts[0]\n",
    "console.log(dessert1)"
   ]
  },
  {
   "cell_type": "code",
   "execution_count": 5,
   "metadata": {},
   "outputs": [
    {
     "name": "stdout",
     "output_type": "stream",
     "text": [
      "[7, 9, 2, 9]\n"
     ]
    }
   ],
   "source": [
    "var1 = 7\n",
    "var2 = 9\n",
    "var3 = 2\n",
    "var4 = 9\n",
    "variable_list = [var1, var2, var3, var4]\n",
    "print(variable_list)"
   ]
  },
  {
   "cell_type": "code",
   "execution_count": 1,
   "metadata": {},
   "outputs": [
    {
     "name": "stdout",
     "output_type": "stream",
     "text": [
      "Hello, I am Anusha and, I am 15 years old.I am a sophmore\n"
     ]
    }
   ],
   "source": [
    "#Homework \n",
    "age = 15\n",
    "name = \"Anusha\"\n",
    "year = \"sophmore\"\n",
    "print(\"Hello, I am \" + name + \" and, I am \" + str(age) + \" years old.\" + \" I am a \" + year)"
   ]
  },
  {
   "cell_type": "code",
   "execution_count": 3,
   "metadata": {},
   "outputs": [
    {
     "name": "stdout",
     "output_type": "stream",
     "text": [
      "Hi. My name is Anusha and I am 15 years old\n"
     ]
    }
   ],
   "source": [
    "#Homework \n",
    "message = \"Hi. My name is {} and I am {} years old\"\n",
    "formatted_message = message.format(name, age)\n",
    "print(formatted_message)"
   ]
  }
 ],
 "metadata": {
  "kernelspec": {
   "display_name": "Python 3 (ipykernel)",
   "language": "python",
   "name": "python3"
  },
  "language_info": {
   "codemirror_mode": {
    "name": "ipython",
    "version": 3
   },
   "file_extension": ".py",
   "mimetype": "text/x-python",
   "name": "python",
   "nbconvert_exporter": "python",
   "pygments_lexer": "ipython3",
   "version": "3.10.12"
  }
 },
 "nbformat": 4,
 "nbformat_minor": 2
}
