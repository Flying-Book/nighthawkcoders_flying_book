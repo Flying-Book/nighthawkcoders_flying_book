{
 "cells": [
  {
   "cell_type": "markdown",
   "metadata": {},
   "source": [
    "Not (boolean) = flips condition\n",
    "And = two conditions true\n",
    "Or = one condition true"
   ]
  },
  {
   "cell_type": "code",
   "execution_count": null,
   "metadata": {},
   "outputs": [],
   "source": [
    "voting_eligibility = False # Define variable\n",
    "user_age = int(input()) #take input and convert to integer\n",
    "if user_age >= 18: # Check if age is greater or equal to 18\n",
    "    voting_eligibility = True # If an adult, can vote\n",
    "print(voting_eligibility) # display results"
   ]
  },
  {
   "cell_type": "code",
   "execution_count": null,
   "metadata": {},
   "outputs": [],
   "source": []
  }
 ],
 "metadata": {
  "kernelspec": {
   "display_name": "Python 3",
   "language": "python",
   "name": "python3"
  },
  "language_info": {
   "name": "python",
   "version": "3.10.12"
  }
 },
 "nbformat": 4,
 "nbformat_minor": 2
}
