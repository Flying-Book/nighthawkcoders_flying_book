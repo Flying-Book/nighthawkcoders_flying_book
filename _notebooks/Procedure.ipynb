{
 "cells": [
  {
   "cell_type": "code",
   "execution_count": 1,
   "metadata": {},
   "outputs": [
    {
     "name": "stdout",
     "output_type": "stream",
     "text": [
      "8.0\n"
     ]
    }
   ],
   "source": [
    "import math\n",
    "def square_root(num):\n",
    "    print(math.sqrt(num))\n",
    "square_root(64)"
   ]
  },
  {
   "cell_type": "code",
   "execution_count": 2,
   "metadata": {},
   "outputs": [
    {
     "name": "stdout",
     "output_type": "stream",
     "text": [
      "0\n",
      "5\n",
      "10\n",
      "15\n",
      "20\n",
      "25\n",
      "30\n",
      "35\n",
      "40\n",
      "45\n"
     ]
    }
   ],
   "source": [
    "def multipy_tables (num, limit):\n",
    "    for i in range(limit):\n",
    "        print(num*i)\n",
    "multipy_tables(5, 10)"
   ]
  },
  {
   "cell_type": "code",
   "execution_count": null,
   "metadata": {},
   "outputs": [],
   "source": [
    "class MyClass:\n",
    "    def _init_(self, attribute1, attribute2):\n",
    "        self.attribute1 = attribute1\n",
    "        self.attribute2 = attribute2"
   ]
  },
  {
   "cell_type": "code",
   "execution_count": 3,
   "metadata": {},
   "outputs": [
    {
     "name": "stdout",
     "output_type": "stream",
     "text": [
      "10\n"
     ]
    }
   ],
   "source": [
    "def procedural_abstraction(num):\n",
    "    print(num*2)\n",
    "procedural_abstraction(5)   "
   ]
  },
  {
   "cell_type": "code",
   "execution_count": null,
   "metadata": {},
   "outputs": [],
   "source": [
    "def summing_machine(num1, num2):\n",
    "    print(num1+num2)\n",
    "summing_machine(5, 6)"
   ]
  },
  {
   "cell_type": "code",
   "execution_count": 2,
   "metadata": {},
   "outputs": [
    {
     "name": "stdout",
     "output_type": "stream",
     "text": [
      "4\n"
     ]
    }
   ],
   "source": [
    "l=[]\n",
    "for i in range(20):\n",
    "    l.append(i)\n",
    "count = 0\n",
    "while len(l) > 1:\n",
    "    l = l[:len(l)//2]\n",
    "    count +=1\n",
    "print(count)"
   ]
  },
  {
   "cell_type": "code",
   "execution_count": 3,
   "metadata": {},
   "outputs": [
    {
     "name": "stdout",
     "output_type": "stream",
     "text": [
      "[76, 84, 90, 91, 92, 93, 98]\n"
     ]
    }
   ],
   "source": [
    "# define a list of test scores\n",
    "test_scores = [90, 98, 91, 84, 76, 93, 59]\n",
    "# find + replace test score of 59 with 92\n",
    "test_scores.remove(59) \n",
    "test_scores.append(92)\n",
    "# Takes the length of the list to find the number of tests\n",
    "num_students = len(test_scores)\n",
    "# use in built in sorting function to sort list\n",
    "sorted_test_scores = sorted(test_scores)\n",
    "# display new list\n",
    "print(sorted_test_scores)\n"
   ]
  }
 ],
 "metadata": {
  "kernelspec": {
   "display_name": "Python 3",
   "language": "python",
   "name": "python3"
  },
  "language_info": {
   "codemirror_mode": {
    "name": "ipython",
    "version": 3
   },
   "file_extension": ".py",
   "mimetype": "text/x-python",
   "name": "python",
   "nbconvert_exporter": "python",
   "pygments_lexer": "ipython3",
   "version": "3.10.12"
  }
 },
 "nbformat": 4,
 "nbformat_minor": 2
}
