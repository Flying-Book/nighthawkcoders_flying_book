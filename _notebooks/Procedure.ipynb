{
 "cells": [
  {
   "cell_type": "code",
   "execution_count": 1,
   "metadata": {},
   "outputs": [
    {
     "name": "stdout",
     "output_type": "stream",
     "text": [
      "8.0\n"
     ]
    }
   ],
   "source": [
    "import math\n",
    "def square_root(num):\n",
    "    print(math.sqrt(num))\n",
    "square_root(64)"
   ]
  },
  {
   "cell_type": "code",
   "execution_count": 2,
   "metadata": {},
   "outputs": [
    {
     "name": "stdout",
     "output_type": "stream",
     "text": [
      "0\n",
      "5\n",
      "10\n",
      "15\n",
      "20\n",
      "25\n",
      "30\n",
      "35\n",
      "40\n",
      "45\n"
     ]
    }
   ],
   "source": [
    "def multipy_tables (num, limit):\n",
    "    for i in range(limit):\n",
    "        print(num*i)\n",
    "multipy_tables(5, 10)"
   ]
  },
  {
   "cell_type": "code",
   "execution_count": null,
   "metadata": {},
   "outputs": [],
   "source": [
    "class MyClass:\n",
    "    def _init_(self, attribute1, attribute2):\n",
    "        self.attribute1 = attribute1\n",
    "        self.attribute2 = attribute2"
   ]
  },
  {
   "cell_type": "code",
   "execution_count": 3,
   "metadata": {},
   "outputs": [
    {
     "name": "stdout",
     "output_type": "stream",
     "text": [
      "10\n"
     ]
    }
   ],
   "source": [
    "def procedural_abstraction(num):\n",
    "    print(num*2)\n",
    "procedural_abstraction(5)   "
   ]
  },
  {
   "cell_type": "code",
   "execution_count": null,
   "metadata": {},
   "outputs": [],
   "source": [
    "def summing_machine(num1, num2):\n",
    "    print(num1+num2)\n",
    "summing_machine(5, 6)"
   ]
  },
  {
   "cell_type": "code",
   "execution_count": 2,
   "metadata": {},
   "outputs": [
    {
     "name": "stdout",
     "output_type": "stream",
     "text": [
      "4\n"
     ]
    }
   ],
   "source": [
    "l=[]\n",
    "for i in range(20):\n",
    "    l.append(i)\n",
    "count = 0\n",
    "while len(l) > 1:\n",
    "    l = l[:len(l)//2]\n",
    "    count +=1\n",
    "print(count)"
   ]
  },
  {
   "cell_type": "code",
   "execution_count": 3,
   "metadata": {},
   "outputs": [
    {
     "name": "stdout",
     "output_type": "stream",
     "text": [
      "[76, 84, 90, 91, 92, 93, 98]\n"
     ]
    }
   ],
   "source": [
    "# define a list of test scores\n",
    "test_scores = [90, 98, 91, 84, 76, 93, 59]\n",
    "# find + replace test score of 59 with 92\n",
    "test_scores.remove(59) \n",
    "test_scores.append(92)\n",
    "# Takes the length of the list to find the number of tests\n",
    "num_students = len(test_scores)\n",
    "# use in built in sorting function to sort list\n",
    "sorted_test_scores = sorted(test_scores)\n",
    "# display new list\n",
    "print(sorted_test_scores)\n"
   ]
  },
  {
   "cell_type": "markdown",
   "metadata": {},
   "source": [
    "# Review\n",
    "1. Definition:\n",
    "\n",
    "A procedure (or function) is a self-contained, reusable block of code that performs a specific task.\n",
    "Procedures are used to break down a program into smaller, manageable parts.\n",
    "2. Benefits:\n",
    "\n",
    "Modularization: Procedures help organize code into logical units, making it easier to understand and maintain.\n",
    "Reusability: Procedures can be called multiple times from different parts of the program.\n",
    "Parameterization: Procedures can accept input values (parameters) and return results.\n",
    "3. Procedure Call:\n",
    "\n",
    "To use a procedure, it must be called (invoked) in the main program or another procedure.\n",
    "The procedure's name, parameters (if any), and return values (if any) are specified in the call.\n",
    "4. Parameters:\n",
    "\n",
    "Procedures can accept input parameters, which are variables or values passed to them for processing.\n",
    "Parameters allow flexibility and customization of the procedure's behavior.\n",
    "5. Return Values:\n",
    "\n",
    "Procedures can return results to the calling code. These results can be assigned to variables or used directly.\n",
    "6. Local Variables:\n",
    "\n",
    "Procedures often have local variables that are only accessible within the procedure.\n",
    "Local variables help isolate and encapsulate the procedure's functionality.\n",
    "7. Procedure Definition:\n",
    "\n",
    "A procedure is defined by its name, parameters, and the code it contains.\n",
    "The procedure's definition specifies what it does when called.\n",
    "8. Psudeo Code\n",
    "~~~\n",
    "procedure calculateSquare(number)\n",
    "    result = number * number\n",
    "    return result\n",
    "end procedure\n",
    "\n",
    "input num\n",
    "result = calculateSquare(num)\n",
    "output \"The square of \" + num + \" is \" + result\n",
    "~~~"
   ]
  }
 ],
 "metadata": {
  "kernelspec": {
   "display_name": "Python 3",
   "language": "python",
   "name": "python3"
  },
  "language_info": {
   "codemirror_mode": {
    "name": "ipython",
    "version": 3
   },
   "file_extension": ".py",
   "mimetype": "text/x-python",
   "name": "python",
   "nbconvert_exporter": "python",
   "pygments_lexer": "ipython3",
   "version": "3.10.12"
  }
 },
 "nbformat": 4,
 "nbformat_minor": 2
}
