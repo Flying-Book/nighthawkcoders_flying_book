{
 "cells": [
  {
   "cell_type": "code",
   "execution_count": 1,
   "metadata": {},
   "outputs": [
    {
     "name": "stdout",
     "output_type": "stream",
     "text": [
      "120\n"
     ]
    }
   ],
   "source": [
    "def factorial(num):\n",
    "    if num != 0:\n",
    "        return num*factorial(num-1)\n",
    "    else:\n",
    "        return 1\n",
    "print(factorial(5))"
   ]
  },
  {
   "cell_type": "code",
   "execution_count": 6,
   "metadata": {},
   "outputs": [
    {
     "name": "stdout",
     "output_type": "stream",
     "text": [
      "5\n"
     ]
    }
   ],
   "source": [
    "def fibonacci(n):\n",
    "    a = 0\n",
    "    b = 1\n",
    "    if n < 0:\n",
    "        print(\"Incorrect input\")\n",
    "    elif n == 0:\n",
    "        return a\n",
    "    elif n == 1:\n",
    "        return b\n",
    "    else:\n",
    "        for i in range(2, n+1):\n",
    "            c = a + b\n",
    "            a = b\n",
    "            b = c\n",
    "        return b\n",
    "print(fibonacci(5))"
   ]
  },
  {
   "cell_type": "code",
   "execution_count": 1,
   "metadata": {},
   "outputs": [
    {
     "name": "stdout",
     "output_type": "stream",
     "text": [
      "Reading\n"
     ]
    }
   ],
   "source": [
    "def activities (num):\n",
    "    l = [\"Writing\", \"Reading\", \"Coding\"]\n",
    "    if len(l) > num:\n",
    "        print(l[num])\n",
    "    else:\n",
    "        print(\"Index Error\")\n",
    "\n",
    "activities(1)"
   ]
  },
  {
   "cell_type": "markdown",
   "metadata": {},
   "source": [
    "# Review\n",
    "1. Iteration (Looping):\n",
    "\n",
    "- Iteration is the process of repeatedly executing a block of code.\n",
    "- It's used to perform repetitive tasks, such as processing lists or performing a set of actions multiple times.\n",
    "2. Types of Loops:\n",
    "\n",
    "- For Loop: Executes a block of code for a specified number of iterations.\n",
    "- While Loop: Repeats a block of code as long as a specified condition is true.\n",
    "1. Control Structures:\n",
    "\n",
    "- Loops often include control structures like \"if\" statements to control the flow within the loop.\n",
    "4. Loop Variables:\n",
    "- Loop variables are used to keep track of the current iteration.\n",
    "- They are typically incremented or decremented in each iteration.\n",
    "5. Termination Conditions:\n",
    "\n",
    "- Loops require termination conditions to prevent infinite execution.\n",
    "- These conditions specify when the loop should stop.\n",
    "6. Nested Loops:\n",
    "\n",
    "- Loops can be nested within each other, allowing complex iterations, such as looping through multi-dimensional arrays.\n",
    "7. Loop Efficiency:\n",
    "\n",
    "- Efficient use of loops can significantly impact program performance.\n",
    "- Minimize unnecessary iterations and operations inside loops.\n",
    "8. Psuedo Code\n",
    "~~~\n",
    "for i from 1 to 5\n",
    "    print i\n",
    "end for\n",
    "~~~"
   ]
  }
 ],
 "metadata": {
  "kernelspec": {
   "display_name": "Python 3",
   "language": "python",
   "name": "python3"
  },
  "language_info": {
   "codemirror_mode": {
    "name": "ipython",
    "version": 3
   },
   "file_extension": ".py",
   "mimetype": "text/x-python",
   "name": "python",
   "nbconvert_exporter": "python",
   "pygments_lexer": "ipython3",
   "version": "3.10.12"
  }
 },
 "nbformat": 4,
 "nbformat_minor": 2
}
