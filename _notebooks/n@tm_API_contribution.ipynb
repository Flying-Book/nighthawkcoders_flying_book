{
 "cells": [
  {
   "cell_type": "markdown",
   "metadata": {},
   "source": [
    "# First Version (PyMOL)\n",
    "PyMOL is like a computer tool for scientists to see and learn about really tiny things, like the building blocks of life. It's like a super microscope on a computer, and it helps scientists understand how these tiny things function, which can be useful for finding new medicines and other important discoveries. 3D visualization is one of the key strengths of PyMOL. It allows scientists and researchers to see and study complex molecular structures in three dimensions, which is essential for understanding their shapes, interactions, and functions. "
   ]
  },
  {
   "cell_type": "code",
   "execution_count": null,
   "metadata": {},
   "outputs": [],
   "source": [
    "# import statements\n",
    "import pymol #api\n",
    "import base64 #image conversion\n",
    "import json #data transfer"
   ]
  },
  {
   "cell_type": "markdown",
   "metadata": {},
   "source": [
    "# .pdb Files (New File Type I learned about)\n",
    "The .pdb file format, in the context of molecular biology and structural biology, is not related to the Program Database (PDB) files used in software development. Instead, a .pdb file in molecular biology refers to a Protein Data Bank file, which is used to store 3D structural information about biological macromolecules, particularly proteins and nucleic acids."
   ]
  },
  {
   "cell_type": "code",
   "execution_count": null,
   "metadata": {},
   "outputs": [],
   "source": [
    "#Ex: blank .pdb file for RNA /DNA\n",
    "    header = \"HEADER    RNA SEQUENCE\" if is_rna else \"HEADER    DNA SEQUENCE\"\n",
    "    end_line = \"END\"\n",
    "#Ex: blank .pdb file for Amino Acid\n",
    "    header = \"HEADER    AMINO ACID SEQUENCE\"\n",
    "    end_line = \"END\""
   ]
  },
  {
   "cell_type": "markdown",
   "metadata": {},
   "source": [
    "This code takes the string of the molecular sequence and uses interation to distribute/format the data into the .pdb like format (so that it is ready to input into the .pdb file)\n",
    "\n",
    "Uses the open() function to creat an editable .pdb file\n",
    "\n",
    "Uses the .write() function to edit/input the data into the .pdb file"
   ]
  },
  {
   "cell_type": "code",
   "execution_count": null,
   "metadata": {},
   "outputs": [],
   "source": [
    "    # Generate atom records for each base in the sequence\n",
    "    for index, base in enumerate(sequence):\n",
    "        atom_record = f\"ATOM  {index + 1:4d}  {base} SEQ  {index + 1:4d}      {base.upper()}\"\n",
    "        pdb_content.append(atom_record)\n",
    "\n",
    "    pdb_content.append(end_line)\n",
    "\n",
    "    # Write the PDB-like content to a file\n",
    "    with open(output_filename, 'w') as pdb_file:\n",
    "        pdb_file.write('\\n'.join(pdb_content))"
   ]
  },
  {
   "cell_type": "markdown",
   "metadata": {},
   "source": [
    "To convert between the different biomolecular structures uses preexiting biology knowledge and creates an algorithm based on it. The code connects the dna code string entered with the rna string and amino acid string for modeling of all three biomolecules.\n",
    "\n",
    "How to convert by hand + how code relates to it \n",
    " - codon wheel and codon table/dictionary\n",
    " - rna vs dna (replace T, with U)"
   ]
  },
  {
   "cell_type": "code",
   "execution_count": null,
   "metadata": {},
   "outputs": [],
   "source": [
    "def rna_to_amino_acids(rna_sequence):\n",
    "    codon_table = {\n",
    "        \"UUU\": \"Phe\", \"UUC\": \"Phe\", \"UUA\": \"Leu\", \"UUG\": \"Leu\",\n",
    "        \"CUU\": \"Leu\", \"CUC\": \"Leu\", \"CUA\": \"Leu\", \"CUG\": \"Leu\",\n",
    "        \"AUU\": \"Ile\", \"AUC\": \"Ile\", \"AUA\": \"Ile\", \"AUG\": \"Met\",\n",
    "        \"GUU\": \"Val\", \"GUC\": \"Val\", \"GUA\": \"Val\", \"GUG\": \"Val\",\n",
    "        \"UCU\": \"Ser\", \"UCC\": \"Ser\", \"UCA\": \"Ser\", \"UCG\": \"Ser\",\n",
    "        \"CCU\": \"Pro\", \"CCC\": \"Pro\", \"CCA\": \"Pro\", \"CCG\": \"Pro\",\n",
    "        \"ACU\": \"Thr\", \"ACC\": \"Thr\", \"ACA\": \"Thr\", \"ACG\": \"Thr\",\n",
    "        \"GCU\": \"Ala\", \"GCC\": \"Ala\", \"GCA\": \"Ala\", \"GCG\": \"Ala\",\n",
    "        \"UAU\": \"Tyr\", \"UAC\": \"Tyr\", \"UAA\": \"Stop\", \"UAG\": \"Stop\",\n",
    "        \"CAU\": \"His\", \"CAC\": \"His\", \"CAA\": \"Gln\", \"CAG\": \"Gln\",\n",
    "        \"AAU\": \"Asn\", \"AAC\": \"Asn\", \"AAA\": \"Lys\", \"AAG\": \"Lys\",\n",
    "        \"GAu\": \"Asp\", \"GAC\": \"Asp\", \"GAA\": \"Glu\", \"GAG\": \"Glu\",\n",
    "        \"UGU\": \"Cys\", \"UGC\": \"Cys\", \"UGA\": \"Stop\", \"UGG\": \"Trp\",\n",
    "        \"CGU\": \"Arg\", \"CGC\": \"Arg\", \"CGA\": \"Arg\", \"CGG\": \"Arg\",\n",
    "        \"AGU\": \"Ser\", \"AGC\": \"Ser\", \"AGA\": \"Arg\", \"AGG\": \"Arg\",\n",
    "        \"GGU\": \"Gly\", \"GGC\": \"Gly\", \"GGA\": \"Gly\", \"GGG\": \"Gly\",\n",
    "    }"
   ]
  },
  {
   "cell_type": "code",
   "execution_count": null,
   "metadata": {},
   "outputs": [],
   "source": [
    "def dna_to_rna(dna_sequence):\n",
    "    return dna_sequence.replace('T', 'U')"
   ]
  },
  {
   "cell_type": "markdown",
   "metadata": {},
   "source": [
    "Created the images and formatted the images in the backend code because.pdb files cannot be jsonified. The images are jsonified after they are encoded in 64-bit."
   ]
  },
  {
   "cell_type": "code",
   "execution_count": null,
   "metadata": {},
   "outputs": [],
   "source": [
    "dna_image_filename = \"dna_structure.png\"\n",
    "pymol.cmd.png(dna_image_filename, width=800, height=600, dpi=300)  # Save the DNA visualization as a PNG image\n",
    "with open(dna_image_filename, \"rb\") as dna_image_file:\n",
    "    dna_image_base64 = base64.b64encode(dna_image_file.read()).decode(\"utf-8\")\n",
    "image_data = {\n",
    "    \"dna_image_base64\": dna_image_base64}"
   ]
  },
  {
   "cell_type": "markdown",
   "metadata": {},
   "source": [
    "However, this code and concept was eventually scraped because the difficulty to download the open source version of PyMOL. After spending a total of 6 hours, downloading anaconda, learning how to set-up a venv, and trying to download .whl files, we eventually gave up. PyMOL corporate version had a windows installer and could be installed in a matter of minutes. Howver, the open source version had four lines of documentation for over 28 terminal commands + subsequent downloads. To add to this the .whl files all ran on deprecated versions of python requiring you to downgrade your python. Furthermore, many of the .whl files were broken or incomplete preventing the installation from downloading. \n",
    "## Lesson Learned \n",
    "I learned that no matter how good your code or website is without proper documentation and updates, no one will be willing to use the code or product."
   ]
  },
  {
   "cell_type": "markdown",
   "metadata": {},
   "source": [
    "# Version 2 (BioPython)\n",
    "What is biopython"
   ]
  },
  {
   "cell_type": "markdown",
   "metadata": {},
   "source": [
    "## Built in functions\n",
    "Lucky for us biopython has built in functions to convert between biomolecules. Biopython also has a uses built-in draw functions to create .png files directly. Unfortunately, it is just 2-D modeling but since the modeling was going to be converted to images, it had less of an impact."
   ]
  },
  {
   "cell_type": "code",
   "execution_count": null,
   "metadata": {},
   "outputs": [],
   "source": [
    "# Function to convert DNA to RNA\n",
    "def dna_to_rna(dna_sequence):\n",
    "    dna_seq = Seq(dna_sequence)\n",
    "    rna_seq = dna_seq.transcribe()\n",
    "    return str(rna_seq)"
   ]
  },
  {
   "cell_type": "code",
   "execution_count": null,
   "metadata": {},
   "outputs": [],
   "source": [
    "# Create images of DNA\n",
    "dna_image = Image.new('RGB', (300, 100), (255, 255, 255))\n",
    "dna_drawer = ImageDraw.Draw(dna_image)\n",
    "dna_drawer.text((10, 40), str(dna_seq), fill=(0, 0, 0))\n",
    "dna_image.save(\"dna_image.png\", format='PNG')"
   ]
  },
  {
   "cell_type": "markdown",
   "metadata": {},
   "source": [
    "# Current Version (Rest API for countries)"
   ]
  },
  {
   "cell_type": "markdown",
   "metadata": {},
   "source": [
    "After realizing that the biopython API did not work on school wifi. We had to quickly switch ideas. In the three hours before n@tm, we coded a entire new website + concept.\n",
    "\n",
    "The new backend used the Rest Countries API to grab information on population and population density of a country. The code was for a very basic API get statement for the information. It also quicky claculated density by dividing the area got from the API by the population.\n",
    "\n",
    "However, eventually the idea of using density and popuation density was scrapped and we only used the name and the population"
   ]
  },
  {
   "cell_type": "code",
   "execution_count": null,
   "metadata": {},
   "outputs": [],
   "source": [
    "        try:\n",
    "            response = requests.get(base_url + country_name)\n",
    "            data = response.json()\n",
    "\n",
    "            if response.status_code == 200 and len(data) > 0:\n",
    "                country_data = data[0]\n",
    "                population = country_data[\"population\"]\n",
    "                area = country_data.get(\"area\", 1)\n",
    "\n",
    "                population_density = population / area\n",
    "\n",
    "                return {\n",
    "                    \"Country Name\": country_name,\n",
    "                 "
   ]
  }
 ],
 "metadata": {
  "language_info": {
   "name": "python"
  }
 },
 "nbformat": 4,
 "nbformat_minor": 2
}
