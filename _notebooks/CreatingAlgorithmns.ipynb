{
 "cells": [
  {
   "cell_type": "markdown",
   "metadata": {},
   "source": [
    "Find the median test grade"
   ]
  },
  {
   "cell_type": "markdown",
   "metadata": {},
   "source": [
    "game with random numbers"
   ]
  }
 ],
 "metadata": {
  "language_info": {
   "name": "python"
  }
 },
 "nbformat": 4,
 "nbformat_minor": 2
}
